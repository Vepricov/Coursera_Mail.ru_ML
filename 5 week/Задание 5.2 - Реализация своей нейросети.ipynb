{
  "nbformat": 4,
  "nbformat_minor": 0,
  "metadata": {
    "kernelspec": {
      "display_name": "Python 3",
      "language": "python",
      "name": "python3"
    },
    "language_info": {
      "codemirror_mode": {
        "name": "ipython",
        "version": 3
      },
      "file_extension": ".py",
      "mimetype": "text/x-python",
      "name": "python",
      "nbconvert_exporter": "python",
      "pygments_lexer": "ipython3",
      "version": "3.6.7"
    },
    "colab": {
      "name": "Задание 5.2 - Реализация своей нейросети.ipynb",
      "provenance": [],
      "collapsed_sections": []
    }
  },
  "cells": [
    {
      "cell_type": "markdown",
      "metadata": {
        "id": "Mzy4yl0aseZO"
      },
      "source": [
        "# Нейронные сети. Архитектуры нейронных сетей"
      ]
    },
    {
      "cell_type": "markdown",
      "metadata": {
        "id": "SgMO0RSTseZQ"
      },
      "source": [
        "## Подготовка данных"
      ]
    },
    {
      "cell_type": "markdown",
      "metadata": {
        "id": "T7oXBVUqseZQ"
      },
      "source": [
        "В этом практическом заданий мы будем решать задачу классификации цифр на датасете `mnist` с помощью полносвязной и сверточной нейронной сети. Для этого мы будем использовать надстройку над `tensorflow`, которая называется `keras`. Для начала обсудим данные. `mnist` датасет состоит из черно-белых изображений цифр размером $28 \\times 28$ пикселей. В данном случае, мы работаем с одним каналом, хотя в случае цветных изображений, общее число каналов равно трем. Загрузим наши данные используя функцию `load_data` объекта `mnist` из модуля `keras.dataset`. Перед выполнением этого задания убедитесь, что ваша версия `tensorflow` >= 1.4."
      ]
    },
    {
      "cell_type": "code",
      "metadata": {
        "colab": {
          "base_uri": "https://localhost:8080/"
        },
        "id": "f3qEtTsAx595",
        "outputId": "43ba7123-19f2-49af-8315-a3ae58361bdd"
      },
      "source": [
        "from google.colab import drive\n",
        "drive.mount('/gdrive' )"
      ],
      "execution_count": 1,
      "outputs": [
        {
          "output_type": "stream",
          "text": [
            "Drive already mounted at /gdrive; to attempt to forcibly remount, call drive.mount(\"/gdrive\", force_remount=True).\n"
          ],
          "name": "stdout"
        }
      ]
    },
    {
      "cell_type": "code",
      "metadata": {
        "colab": {
          "base_uri": "https://localhost:8080/"
        },
        "id": "wRcXTVy2shCF",
        "outputId": "861ae59b-133b-4c58-e10c-80648881750c"
      },
      "source": [
        "%tensorflow_version 1.x"
      ],
      "execution_count": 2,
      "outputs": [
        {
          "output_type": "stream",
          "text": [
            "TensorFlow 1.x selected.\n"
          ],
          "name": "stdout"
        }
      ]
    },
    {
      "cell_type": "code",
      "metadata": {
        "id": "k0f5spSZseZR"
      },
      "source": [
        "import tensorflow as tf\n",
        "\n",
        "(x_train, y_train), (x_test, y_test) = tf.keras.datasets.mnist.load_data()"
      ],
      "execution_count": 3,
      "outputs": []
    },
    {
      "cell_type": "markdown",
      "metadata": {
        "id": "1_TyzHp2seZS"
      },
      "source": [
        "Нормализуйте заруженные данные `x_train` и `x_test`. Для этого следует разделить числовое значение каждого пикселя на $255$. Далее, переведите `y_train` и `y_test` в one-hot представление, используя функцию `tf.keras.utils.to_categorical`. Наше первое задание будет заключатся в реализации полносвязной нейронной сети. Поэтому измените размерность тренировочных и тестовых данных с помощью метода `reshape`.\n",
        "    >> np_vector.shape\n",
        "    >> (28, 28)\n",
        "    >> np_vector = np_vector.reshape(28 * 28)\n",
        "    >> np_vector.shape\n",
        "    >> (784,)"
      ]
    },
    {
      "cell_type": "markdown",
      "metadata": {
        "id": "kwAQstlYseZT"
      },
      "source": [
        "### *РЕШЕНИЕ*"
      ]
    },
    {
      "cell_type": "code",
      "metadata": {
        "colab": {
          "base_uri": "https://localhost:8080/"
        },
        "id": "GViJsW6IvvcE",
        "outputId": "17af1f63-4687-4046-8a8e-c46091d4ed8c"
      },
      "source": [
        "batch_size = 128\n",
        "num_classes = 10\n",
        "epochs = 2\n",
        "\n",
        "x_train = x_train.reshape(60000, 784)\n",
        "x_test = x_test.reshape(10000, 784)\n",
        "x_train = x_train.astype('float32')\n",
        "x_test = x_test.astype('float32')\n",
        "\n",
        "x_train /= 255\n",
        "x_test /= 255\n",
        "\n",
        "print(x_train.shape[0], 'train samples')\n",
        "print(x_test.shape[0], 'test samples')\n",
        "\n",
        "y_train = tf.keras.utils.to_categorical(y_train, num_classes)\n",
        "y_test = tf.keras.utils.to_categorical(y_test, num_classes)"
      ],
      "execution_count": 4,
      "outputs": [
        {
          "output_type": "stream",
          "text": [
            "60000 train samples\n",
            "10000 test samples\n"
          ],
          "name": "stdout"
        }
      ]
    },
    {
      "cell_type": "markdown",
      "metadata": {
        "id": "8iQPoHk0seZT"
      },
      "source": [
        "## Полносвязная нейронная сеть."
      ]
    },
    {
      "cell_type": "markdown",
      "metadata": {
        "id": "fOt4UDOyseZU"
      },
      "source": [
        "В этой части задания вам предлагается реализовать обычную нейронную сеть с использованием последовательной модели `tf.keras.models.Sequential`. Данная модель позволяет добавлять слои при помощи функции встроенной `add`. Наша нейронная сеть будет состоять всего лишь из одного скрытого слоя с количеством нейроннов равным $256$, функцией активации ReLU и с `input_shape=(784,)`, что соответствует количеству нейронов во входном слое нашей нейронной сети. Количество нейроннов в выходном слое равно количеству классов, в качестве функции активации нужно использовать softmax. Не забудьте вызвать `model.compile` после добавления слоев. Используйте в качестве функции потерь `categorical_crossentropy`, оптимизатор `adadelta` и метрику `accuracy`."
      ]
    },
    {
      "cell_type": "markdown",
      "metadata": {
        "id": "itqDuGj9seZU"
      },
      "source": [
        "### *РЕШЕНИЕ*"
      ]
    },
    {
      "cell_type": "code",
      "metadata": {
        "colab": {
          "base_uri": "https://localhost:8080/"
        },
        "id": "jtKsrxqVseZU",
        "outputId": "8296e1d6-951a-4bd2-b647-38ec941a3863"
      },
      "source": [
        "model = tf.keras.models.Sequential()\n",
        "model.add(tf.keras.layers.Dense(256, activation='relu', input_shape=(784,)))\n",
        "model.add(tf.keras.layers.Dense(num_classes, activation='softmax'))"
      ],
      "execution_count": 5,
      "outputs": [
        {
          "output_type": "stream",
          "text": [
            "WARNING:tensorflow:From /tensorflow-1.15.2/python3.7/tensorflow_core/python/ops/resource_variable_ops.py:1630: calling BaseResourceVariable.__init__ (from tensorflow.python.ops.resource_variable_ops) with constraint is deprecated and will be removed in a future version.\n",
            "Instructions for updating:\n",
            "If using Keras pass *_constraint arguments to layers.\n"
          ],
          "name": "stdout"
        }
      ]
    },
    {
      "cell_type": "code",
      "metadata": {
        "id": "IKknFWPCwb3K"
      },
      "source": [
        "model.compile(\n",
        "    loss='categorical_crossentropy',\n",
        "    optimizer=tf.keras.optimizers.Adadelta(),\n",
        "    metrics=['accuracy']\n",
        ")"
      ],
      "execution_count": 6,
      "outputs": []
    },
    {
      "cell_type": "markdown",
      "metadata": {
        "id": "PLAWcLEYseZV"
      },
      "source": [
        "После этого, создайте модель и загрузите веса нейронной сети из файла `neural_networks.h5`. Какое количество настраиваемых параметров содержится в этой нейронной сети. Запишите это число в качестве первого ответа `answer1` на это задание. Оцените качетво на тестовой выборке и запишите это значение с точностью до трех знаков после запятой в переменную `answer2`."
      ]
    },
    {
      "cell_type": "markdown",
      "metadata": {
        "id": "U-B6-mULseZV"
      },
      "source": [
        "### *РЕШЕНИЕ*"
      ]
    },
    {
      "cell_type": "code",
      "metadata": {
        "colab": {
          "base_uri": "https://localhost:8080/",
          "height": 286
        },
        "id": "XQCbHFPF_3JV",
        "outputId": "ef434a61-cfea-4c24-d38b-d7ff554fcec8"
      },
      "source": [
        "pip install h5py==2.10.0"
      ],
      "execution_count": 8,
      "outputs": [
        {
          "output_type": "stream",
          "text": [
            "Collecting h5py==2.10.0\n",
            "  Downloading h5py-2.10.0-cp37-cp37m-manylinux1_x86_64.whl (2.9 MB)\n",
            "\u001b[K     |████████████████████████████████| 2.9 MB 4.2 MB/s \n",
            "\u001b[?25hRequirement already satisfied: numpy>=1.7 in /usr/local/lib/python3.7/dist-packages (from h5py==2.10.0) (1.19.5)\n",
            "Requirement already satisfied: six in /usr/local/lib/python3.7/dist-packages (from h5py==2.10.0) (1.15.0)\n",
            "Installing collected packages: h5py\n",
            "  Attempting uninstall: h5py\n",
            "    Found existing installation: h5py 3.1.0\n",
            "    Uninstalling h5py-3.1.0:\n",
            "      Successfully uninstalled h5py-3.1.0\n",
            "Successfully installed h5py-2.10.0\n"
          ],
          "name": "stdout"
        },
        {
          "output_type": "display_data",
          "data": {
            "application/vnd.colab-display-data+json": {
              "pip_warning": {
                "packages": [
                  "h5py"
                ]
              }
            }
          },
          "metadata": {}
        }
      ]
    },
    {
      "cell_type": "code",
      "metadata": {
        "id": "a99TfA4lseZV"
      },
      "source": [
        "model.load_weights('/gdrive/My Drive/data/neural_networks.h5')"
      ],
      "execution_count": 7,
      "outputs": []
    },
    {
      "cell_type": "code",
      "metadata": {
        "colab": {
          "base_uri": "https://localhost:8080/"
        },
        "id": "bvi7gUV40zZh",
        "outputId": "9c1dd8f3-0259-4bbc-b4d6-2964179a2604"
      },
      "source": [
        "answer1 = 0\n",
        "for neiron in model.get_weights()[0]:\n",
        "  answer1 += len(neiron)\n",
        "answer1 += len(model.get_weights()[1])\n",
        "for neiron in model.get_weights()[2]:\n",
        "  answer1 += len(neiron)\n",
        "answer1 += len(model.get_weights()[3])\n",
        "    \n",
        "print (answer1)"
      ],
      "execution_count": 8,
      "outputs": [
        {
          "output_type": "stream",
          "text": [
            "203530\n"
          ],
          "name": "stdout"
        }
      ]
    },
    {
      "cell_type": "code",
      "metadata": {
        "colab": {
          "base_uri": "https://localhost:8080/"
        },
        "id": "9efzX4Ww3pCK",
        "outputId": "f4216841-384c-4f6e-bdd0-92b4af6de2f3"
      },
      "source": [
        "_ = model.fit(\n",
        "    x_train, y_train,\n",
        "    batch_size=batch_size,\n",
        "    epochs=epochs,\n",
        "    verbose=1,\n",
        "    validation_data=(x_test, y_test)\n",
        ")"
      ],
      "execution_count": 9,
      "outputs": [
        {
          "output_type": "stream",
          "text": [
            "Train on 60000 samples, validate on 10000 samples\n",
            "Epoch 1/2\n",
            "60000/60000 [==============================] - 3s 50us/sample - loss: 0.0128 - acc: 0.9970 - val_loss: 0.0659 - val_acc: 0.9819\n",
            "Epoch 2/2\n",
            "60000/60000 [==============================] - 3s 44us/sample - loss: 0.0126 - acc: 0.9971 - val_loss: 0.0656 - val_acc: 0.9819\n"
          ],
          "name": "stdout"
        }
      ]
    },
    {
      "cell_type": "code",
      "metadata": {
        "colab": {
          "base_uri": "https://localhost:8080/"
        },
        "id": "us4FBOuE33lv",
        "outputId": "ceee1736-cb89-4bc0-8be4-9db9b0a6bedf"
      },
      "source": [
        "_, answer2 = model.evaluate(x_test, y_test, verbose=0)\n",
        "print('Test accuracy:', round(answer2, 3))"
      ],
      "execution_count": 10,
      "outputs": [
        {
          "output_type": "stream",
          "text": [
            "Test accuracy: 0.982\n"
          ],
          "name": "stdout"
        }
      ]
    },
    {
      "cell_type": "markdown",
      "metadata": {
        "id": "RWNxoqF2seZV"
      },
      "source": [
        "## Сверточная нейронная сеть"
      ]
    },
    {
      "cell_type": "markdown",
      "metadata": {
        "id": "HHi1MG3iseZW"
      },
      "source": [
        "Далее, вам предлагается реализовать сверточную нейронную сеть. \n",
        "\n",
        "* Размерность входного слоя $(28, 28, 1)$.\n",
        "* Сверточный слой с $32$ каналами, ядро свертки $3 \\times 3$.\n",
        "* Макспулинг слой $(2,2)$.\n",
        "* Сверточный слой с $64$ каналами, ядро свертки $3 \\times 3$.\n",
        "* Макспулинг слой $(2,2)$.\n",
        "* Понижение размерности признаков.\n",
        "* Полносвязный слой с 64 нейронами\n",
        "* Выходной слой с количеством нейронов равному количеству классов.\n",
        "\n",
        "Для этого предлагается использовать следующие классы `Convolution2D`, `MaxPooling2D` и `Flatten` для понижения размерности признаков. Все эти классы как и слой полносвязной нейронной сети `Dense` находятся в `tf.keras.layers`. Используйте ReLU в качестве функции активации во всех слоях, где это потребуется, кроме выходного, в нем по аналогии с прошлым заданием используется softmax. Аналогичная ситуация с функцией `compile` после добавления слоев."
      ]
    },
    {
      "cell_type": "markdown",
      "metadata": {
        "id": "5m0kS8TIseZW"
      },
      "source": [
        "### *РЕШЕНИЕ*"
      ]
    },
    {
      "cell_type": "code",
      "metadata": {
        "id": "WxHjDHPwBWCc"
      },
      "source": [
        "def conv_net(input_shape):\n",
        "    model = tf.keras.models.Sequential()\n",
        "    model.add(tf.keras.layers.Convolution2D(32, (3,3), input_shape=input_shape, activation='relu'))\n",
        "    model.add(tf.keras.layers.MaxPooling2D((2,2)))\n",
        "    model.add(tf.keras.layers.Convolution2D(64, (3,3), activation='relu'))\n",
        "    model.add(tf.keras.layers.MaxPooling2D((2,2)))\n",
        "    model.add(tf.keras.layers.Flatten())\n",
        "    model.add(tf.keras.layers.Dense(64, activation='relu'))\n",
        "    model.add(tf.keras.layers.Dense(10, activation='softmax'))\n",
        "    model.compile(loss='categorical_crossentropy', \n",
        "                  optimizer= 'adadelta', \n",
        "                  metrics=['accuracy'])\n",
        "    return model"
      ],
      "execution_count": 44,
      "outputs": []
    },
    {
      "cell_type": "markdown",
      "metadata": {
        "id": "lievnX_nseZW"
      },
      "source": [
        "Теперь оцените качество получившейся модели на тестовой выборке. Для этого измените размерность `x_train` и `x_test` на размерность входного слоя. Загрузите веса `conv_net.h5`. Запишите количество параметров этой сверточной нейронной сети в `answer3`. Сравните его с количеством параметром в полносвязной нейронной сети, которую мы реализовали ранее. Оценку качества запишите в `answer4` с точностью до 3 трех знаков после запятой."
      ]
    },
    {
      "cell_type": "markdown",
      "metadata": {
        "id": "tJrjRPsBseZX"
      },
      "source": [
        "### *РЕШЕНИЕ*"
      ]
    },
    {
      "cell_type": "code",
      "metadata": {
        "id": "Kz_C1ZdRseZX"
      },
      "source": [
        "x_train = x_train.reshape(60000, 28, 28, 1)\n",
        "x_test = x_test.reshape(10000, 28, 28, 1)\n",
        "\n",
        "model = conv_net((28, 28, 1))\n",
        "#model.load_weights('conv_net.h5')\n",
        "answer3 = model.count_params()\n",
        "_, score = model.evaluate(x_test, y_test, verbose=0)\n",
        "answer4 = round(score, 3)"
      ],
      "execution_count": 48,
      "outputs": []
    },
    {
      "cell_type": "markdown",
      "metadata": {
        "id": "s3tCBTwcseZX"
      },
      "source": [
        "# Строка с ответами"
      ]
    },
    {
      "cell_type": "code",
      "metadata": {
        "id": "ixGp3SzSseZX",
        "colab": {
          "base_uri": "https://localhost:8080/"
        },
        "outputId": "bfb12a90-273b-436c-c2ca-15e495d9262a"
      },
      "source": [
        "output = \"nn params {0}\\n nn score {1:.3f}\\ncnn params {2}\\ncnn score {3:.3f}\"\n",
        "print(output.format(answer1, answer2, answer3, answer4))"
      ],
      "execution_count": 49,
      "outputs": [
        {
          "output_type": "stream",
          "text": [
            "nn params 203530\n",
            " nn score 0.982\n",
            "cnn params 121930\n",
            "cnn score 0.074\n"
          ],
          "name": "stdout"
        }
      ]
    }
  ]
}