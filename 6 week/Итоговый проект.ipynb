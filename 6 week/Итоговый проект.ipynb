{
  "nbformat": 4,
  "nbformat_minor": 0,
  "metadata": {
    "colab": {
      "name": "Итоговый проект.ipynb",
      "provenance": []
    },
    "kernelspec": {
      "name": "python3",
      "display_name": "Python 3"
    },
    "language_info": {
      "name": "python"
    }
  },
  "cells": [
    {
      "cell_type": "markdown",
      "metadata": {
        "id": "CqMp_saPKyac"
      },
      "source": [
        "# Итоговый проект"
      ]
    },
    {
      "cell_type": "code",
      "metadata": {
        "colab": {
          "base_uri": "https://localhost:8080/"
        },
        "id": "aooI9BBqKt0d",
        "outputId": "2082af23-41a3-4a56-eeb5-8e35351363af"
      },
      "source": [
        "from google.colab import drive\n",
        "drive.mount('/gdrive' )"
      ],
      "execution_count": 1,
      "outputs": [
        {
          "output_type": "stream",
          "text": [
            "Mounted at /gdrive\n"
          ],
          "name": "stdout"
        }
      ]
    },
    {
      "cell_type": "code",
      "metadata": {
        "colab": {
          "base_uri": "https://localhost:8080/"
        },
        "id": "S6SGF0A-LLxB",
        "outputId": "4c72414d-d735-4734-b50b-4bedf0effd50"
      },
      "source": [
        "%tensorflow_version 1.x"
      ],
      "execution_count": 2,
      "outputs": [
        {
          "output_type": "stream",
          "text": [
            "TensorFlow 1.x selected.\n"
          ],
          "name": "stdout"
        }
      ]
    },
    {
      "cell_type": "code",
      "metadata": {
        "id": "l_k5QtpcLPQ-"
      },
      "source": [
        "import tensorflow as tf\n",
        "import pandas as pd\n",
        "import numpy as np"
      ],
      "execution_count": 3,
      "outputs": []
    },
    {
      "cell_type": "code",
      "metadata": {
        "id": "bze1gxKsMCjI"
      },
      "source": [
        "data_train = pd.read_csv('/gdrive/My Drive/data/fashion-mnist_train.csv')\n",
        "X_train = data_train.drop('label', axis = 1)\n",
        "y_train = data_train['label']\n",
        "data_test = pd.read_csv('/gdrive/My Drive/data/fashion-mnist_test.csv')\n",
        "X_test = data_test.drop('label', axis = 1)\n",
        "y_test = data_test['label']"
      ],
      "execution_count": 101,
      "outputs": []
    },
    {
      "cell_type": "code",
      "metadata": {
        "colab": {
          "base_uri": "https://localhost:8080/"
        },
        "id": "OB7_vyYlPBNO",
        "outputId": "e12f72f9-551a-434b-875b-d12edab459fe"
      },
      "source": [
        "num_classes = len(np.unique(y_train))\n",
        "print (num_classes)"
      ],
      "execution_count": 14,
      "outputs": [
        {
          "output_type": "stream",
          "text": [
            "10\n"
          ],
          "name": "stdout"
        }
      ]
    },
    {
      "cell_type": "code",
      "metadata": {
        "id": "yo8D5qh7ivPP"
      },
      "source": [
        "X_train = np.array(X_train.values)\n",
        "X_test = np.array(X_test.values)\n",
        "\n",
        "X_train = X_train.reshape(60000, 784)\n",
        "X_test = X_test.reshape(10000, 784)\n",
        "\n",
        "X_train = X_train.astype('float')\n",
        "X_test = X_test.astype('float')\n",
        "\n",
        "X_train /= 255\n",
        "X_test /= 255\n",
        "\n",
        "y_train = tf.keras.utils.to_categorical(y_train, num_classes)\n",
        "y_test = tf.keras.utils.to_categorical(y_test, num_classes)"
      ],
      "execution_count": 102,
      "outputs": []
    },
    {
      "cell_type": "markdown",
      "metadata": {
        "id": "za32DSArK6ey"
      },
      "source": [
        "### Линейная регрессия"
      ]
    },
    {
      "cell_type": "code",
      "metadata": {
        "id": "T5AoDyMYL31n"
      },
      "source": [
        "def linear_regression(input_shape):\n",
        "    model = tf.keras.models.Sequential()\n",
        "    model.add(tf.keras.layers.Dense(num_classes, activation='softmax', input_shape = input_shape))\n",
        "    model.compile(loss='categorical_crossentropy', \n",
        "                  optimizer='SGD', \n",
        "                  metrics=['accuracy'])\n",
        "    return model"
      ],
      "execution_count": 81,
      "outputs": []
    },
    {
      "cell_type": "code",
      "metadata": {
        "id": "b8u8PJkpPp95"
      },
      "source": [
        "model = linear_regression((X_train.shape[1], ))\n",
        "scores = []\n",
        "for epochs in range(1, 10):\n",
        "  _ = model.fit(\n",
        "      X_train, y_train,\n",
        "      epochs = epochs,\n",
        "      verbose = 0\n",
        "  )\n",
        "  _, score = model.evaluate(X_test, y_test, verbose=0)\n",
        "  scores.append(score)"
      ],
      "execution_count": 83,
      "outputs": []
    },
    {
      "cell_type": "code",
      "metadata": {
        "id": "uDDXG_hmPqmp"
      },
      "source": [
        "import matplotlib.pyplot as plt\n",
        "%matplotlib inline"
      ],
      "execution_count": 84,
      "outputs": []
    },
    {
      "cell_type": "code",
      "metadata": {
        "colab": {
          "base_uri": "https://localhost:8080/",
          "height": 513
        },
        "id": "SZenLRTDTOVv",
        "outputId": "1b33f2c4-0c39-488e-ddfd-d704de1bfe55"
      },
      "source": [
        "plt.figure(figsize=(10, 8))\n",
        "plt.plot(range(1, 10), scores, color = 'green')\n",
        "plt.xlabel('Кол-во эпох')\n",
        "plt.ylabel('Accuracy')\n",
        "plt.title('Зависимость Accuracy от кол-ва эпох')\n",
        "plt.show()"
      ],
      "execution_count": 85,
      "outputs": [
        {
          "output_type": "display_data",
          "data": {
            "image/png": "[encoded data removed]",
            "text/plain": [
              "<Figure size 720x576 with 1 Axes>"
            ]
          },
          "metadata": {
            "needs_background": "light"
          }
        }
      ]
    },
    {
      "cell_type": "markdown",
      "metadata": {
        "id": "zSb5n0CgUD3B"
      },
      "source": [
        "Как мы видим, самое хорошее качество было при epochs = 9\n"
      ]
    },
    {
      "cell_type": "code",
      "metadata": {
        "colab": {
          "base_uri": "https://localhost:8080/"
        },
        "id": "S8vxP9HcT2x_",
        "outputId": "a4d9d28a-e1c0-41c7-eb4d-489f4a560119"
      },
      "source": [
        "score_lr = scores[8]\n",
        "print(score_lr)"
      ],
      "execution_count": 87,
      "outputs": [
        {
          "output_type": "stream",
          "text": [
            "0.8585\n"
          ],
          "name": "stdout"
        }
      ]
    },
    {
      "cell_type": "markdown",
      "metadata": {
        "id": "c2NZR5ipUdrr"
      },
      "source": [
        "### Полносвязная нейронная сеть"
      ]
    },
    {
      "cell_type": "code",
      "metadata": {
        "id": "o4yRPryzUh9a"
      },
      "source": [
        "def neural_network(input_shape):\n",
        "    model = tf.keras.models.Sequential()\n",
        "    model.add(tf.keras.layers.Dense(784, activation='relu', input_shape=(784,)))\n",
        "    model.add(tf.keras.layers.Dense(512, activation='relu'))\n",
        "    model.add(tf.keras.layers.Dense(128, activation='relu'))\n",
        "    model.add(tf.keras.layers.Dense(10, activation='softmax'))\n",
        "    model.compile(loss='categorical_crossentropy', \n",
        "                  optimizer='adam', \n",
        "                  metrics=['accuracy'])\n",
        "    return model"
      ],
      "execution_count": 103,
      "outputs": []
    },
    {
      "cell_type": "code",
      "metadata": {
        "colab": {
          "base_uri": "https://localhost:8080/"
        },
        "id": "TVZNXtMBU_pB",
        "outputId": "79197b36-64b3-4bff-f0e6-81202a150c14"
      },
      "source": [
        "model = neural_network((X_train.shape[1], ))\n",
        "model.fit(\n",
        "    X_train, y_train,\n",
        "    validation_data=(X_test, y_test),\n",
        "    epochs = 5,\n",
        "    verbose = 0\n",
        ")\n",
        "_, score_neural_network = model.evaluate(X_test, y_test, verbose= 0)\n",
        "print (score_neural_network)"
      ],
      "execution_count": 104,
      "outputs": [
        {
          "output_type": "stream",
          "text": [
            "0.8838\n"
          ],
          "name": "stdout"
        }
      ]
    },
    {
      "cell_type": "markdown",
      "metadata": {
        "id": "fwL1NnMagjuD"
      },
      "source": [
        "Качасвто модели возросло до 88%, это хорошо"
      ]
    },
    {
      "cell_type": "markdown",
      "metadata": {
        "id": "tRiC3X3ehMuf"
      },
      "source": [
        "### Сверточная нейронная сеть"
      ]
    },
    {
      "cell_type": "code",
      "metadata": {
        "id": "a7efRcMEhQ-t"
      },
      "source": [
        "def conv_net_1(input_shape):\n",
        "    model = tf.keras.models.Sequential()\n",
        "    model.add(tf.keras.layers.Convolution2D(32, (3,3), input_shape=input_shape, activation='relu'))\n",
        "    model.add(tf.keras.layers.MaxPooling2D((2,2)))\n",
        "    model.add(tf.keras.layers.Convolution2D(64, (3,3), activation='relu'))\n",
        "    model.add(tf.keras.layers.MaxPooling2D((2,2)))\n",
        "    model.add(tf.keras.layers.Flatten())\n",
        "    model.add(tf.keras.layers.Dense(64, activation='relu'))\n",
        "    model.add(tf.keras.layers.Dense(10, activation='softmax'))\n",
        "    model.compile(loss='categorical_crossentropy', \n",
        "                  optimizer= 'adam', \n",
        "                  metrics=['accuracy'])\n",
        "    return model"
      ],
      "execution_count": 105,
      "outputs": []
    },
    {
      "cell_type": "code",
      "metadata": {
        "id": "ZMa3xQlqnHgK"
      },
      "source": [
        "X_train = X_train.reshape(60000, 28, 28, 1)\n",
        "X_test = X_test.reshape(10000, 28, 28, 1)"
      ],
      "execution_count": 106,
      "outputs": []
    },
    {
      "cell_type": "code",
      "metadata": {
        "colab": {
          "base_uri": "https://localhost:8080/"
        },
        "id": "d7bGFA_znOoX",
        "outputId": "3cfe92c7-d667-41d6-eb68-0131de107478"
      },
      "source": [
        "model = conv_net_1((28, 28, 1))\n",
        "model.fit(\n",
        "    X_train, y_train,\n",
        "    validation_data=(X_test, y_test),\n",
        "    epochs = 5,\n",
        "    verbose = 0\n",
        ")\n",
        "\n",
        "_, score_conv_net_1 = model.evaluate(X_test, y_test, verbose= 0)\n",
        "print (score_conv_net_1)"
      ],
      "execution_count": 107,
      "outputs": [
        {
          "output_type": "stream",
          "text": [
            "0.8977\n"
          ],
          "name": "stdout"
        }
      ]
    },
    {
      "cell_type": "markdown",
      "metadata": {
        "id": "LSQDn1kNsjbc"
      },
      "source": [
        "Качасвто модели возросло до 88%, это еще лучше"
      ]
    },
    {
      "cell_type": "markdown",
      "metadata": {
        "id": "LxyyZaNMsmoW"
      },
      "source": [
        "Теперь добавим Batch Normalization слои после сверточных слоев или слоев полносвязной нейронной сети"
      ]
    },
    {
      "cell_type": "code",
      "metadata": {
        "id": "laQcWmz8s0R-"
      },
      "source": [
        "def conv_net_2(input_shape):\n",
        "    model = tf.keras.models.Sequential()\n",
        "    model.add(tf.keras.layers.Convolution2D(32, (3,3), input_shape=input_shape, activation='relu'))\n",
        "    model.add(tf.keras.layers.BatchNormalization())\n",
        "    model.add(tf.keras.layers.MaxPooling2D((2,2)))\n",
        "    model.add(tf.keras.layers.Convolution2D(64, (3,3), activation='relu'))\n",
        "    model.add(tf.keras.layers.BatchNormalization())\n",
        "    model.add(tf.keras.layers.MaxPooling2D((2,2)))\n",
        "    model.add(tf.keras.layers.Flatten())\n",
        "    model.add(tf.keras.layers.Dense(64, activation='relu'))\n",
        "    model.add(tf.keras.layers.BatchNormalization())\n",
        "    model.add(tf.keras.layers.Dense(10, activation='softmax'))\n",
        "    model.compile(loss='categorical_crossentropy', \n",
        "                  optimizer= 'adam', \n",
        "                  metrics=['accuracy'])\n",
        "    return model"
      ],
      "execution_count": 109,
      "outputs": []
    },
    {
      "cell_type": "code",
      "metadata": {
        "colab": {
          "base_uri": "https://localhost:8080/"
        },
        "id": "PdcliHDntEck",
        "outputId": "d3a7c178-5e49-468e-b06d-5249717bbfe0"
      },
      "source": [
        "model = conv_net_2((28, 28, 1))\n",
        "model.fit(\n",
        "    X_train, y_train,\n",
        "    validation_data=(X_test, y_test),\n",
        "    epochs = 5,\n",
        "    verbose = 0\n",
        ")\n",
        "\n",
        "_, score_conv_net_2 = model.evaluate(X_test, y_test, verbose= 0)\n",
        "print (score_conv_net_2)"
      ],
      "execution_count": 110,
      "outputs": [
        {
          "output_type": "stream",
          "text": [
            "0.9052\n"
          ],
          "name": "stdout"
        }
      ]
    },
    {
      "cell_type": "markdown",
      "metadata": {
        "id": "o_FCf3XzvIYF"
      },
      "source": [
        "Качасвто модели возросло до 90%, это самый лучший результат"
      ]
    },
    {
      "cell_type": "markdown",
      "metadata": {
        "id": "OYEkdQbbvNkT"
      },
      "source": [
        "Теперь давайте посмотрим на качество всех моделей:"
      ]
    },
    {
      "cell_type": "code",
      "metadata": {
        "colab": {
          "base_uri": "https://localhost:8080/"
        },
        "id": "dWX8QfClvMY2",
        "outputId": "150d815a-aeaf-4721-acd6-53f8d166fafb"
      },
      "source": [
        "print ('Линейная регрессия: {0:.4}%'.format(round(score_lr * 100, 2)))\n",
        "print ('Полносвязная нейронная сеть: {0:.4}%'.format(round(score_neural_network * 100, 2)))\n",
        "print ('1 сверточная нейронная сеть: {0:.4}%'.format(round(score_conv_net_1 * 100, 2)))\n",
        "print ('2 сверточная нейронная сеть: {0:.4}%'.format(round(score_conv_net_2 * 100, 2)))"
      ],
      "execution_count": 112,
      "outputs": [
        {
          "output_type": "stream",
          "text": [
            "Линейная регрессия: 85.85%\n",
            "Полносвязная нейронная сеть: 88.38%\n",
            "1 сверточная нейронная сеть: 89.77%\n",
            "2 сверточная нейронная сеть: 90.52%\n"
          ],
          "name": "stdout"
        }
      ]
    },
    {
      "cell_type": "markdown",
      "metadata": {
        "id": "1lpWW4wAv8vP"
      },
      "source": [
        "Как можно заметить лучше всего себя показала сверточная нейронная сеть с добавлением Batch Normalization"
      ]
    }
  ]
}