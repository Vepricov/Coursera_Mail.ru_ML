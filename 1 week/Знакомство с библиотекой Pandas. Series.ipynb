{
 "cells": [
  {
   "cell_type": "markdown",
   "id": "b05b9cc2",
   "metadata": {},
   "source": [
    "# Знакомство с библиотекой Pandas. Series"
   ]
  },
  {
   "cell_type": "code",
   "execution_count": 1,
   "id": "a9a6df67",
   "metadata": {},
   "outputs": [],
   "source": [
    "import pandas as pd"
   ]
  },
  {
   "cell_type": "code",
   "execution_count": 2,
   "id": "7aa44bd7",
   "metadata": {},
   "outputs": [],
   "source": [
    "s = pd.Series([1, 2, 3, 4], index = ['a', 'b', 'c', 'd'])"
   ]
  },
  {
   "cell_type": "code",
   "execution_count": 3,
   "id": "97ad5b6b",
   "metadata": {},
   "outputs": [
    {
     "data": {
      "text/plain": [
       "a    1\n",
       "b    2\n",
       "c    3\n",
       "d    4\n",
       "dtype: int64"
      ]
     },
     "execution_count": 3,
     "metadata": {},
     "output_type": "execute_result"
    }
   ],
   "source": [
    "s"
   ]
  },
  {
   "cell_type": "code",
   "execution_count": 4,
   "id": "218b0873",
   "metadata": {},
   "outputs": [],
   "source": [
    "d = {'Moscow': 1000, 'London': 300, 'New York': 150, 'Barselona': None}\n",
    "cities = pd.Series(d)"
   ]
  },
  {
   "cell_type": "code",
   "execution_count": 5,
   "id": "8aa90630",
   "metadata": {},
   "outputs": [
    {
     "data": {
      "text/plain": [
       "Moscow       1000.0\n",
       "London        300.0\n",
       "New York      150.0\n",
       "Barselona       NaN\n",
       "dtype: float64"
      ]
     },
     "execution_count": 5,
     "metadata": {},
     "output_type": "execute_result"
    }
   ],
   "source": [
    "cities"
   ]
  },
  {
   "cell_type": "code",
   "execution_count": 8,
   "id": "23fe25e5",
   "metadata": {},
   "outputs": [
    {
     "name": "stdout",
     "output_type": "stream",
     "text": [
      "1000.0\n",
      "Moscow    1000.0\n",
      "London     300.0\n",
      "dtype: float64\n"
     ]
    }
   ],
   "source": [
    "print (cities['Moscow'])\n",
    "print (cities[['Moscow', 'London']])"
   ]
  },
  {
   "cell_type": "code",
   "execution_count": 9,
   "id": "730d70b5",
   "metadata": {},
   "outputs": [
    {
     "data": {
      "text/plain": [
       "Moscow       False\n",
       "London        True\n",
       "New York      True\n",
       "Barselona    False\n",
       "dtype: bool"
      ]
     },
     "execution_count": 9,
     "metadata": {},
     "output_type": "execute_result"
    }
   ],
   "source": [
    "cities < 1000"
   ]
  },
  {
   "cell_type": "code",
   "execution_count": 10,
   "id": "9a0d1365",
   "metadata": {},
   "outputs": [
    {
     "data": {
      "text/plain": [
       "London      300.0\n",
       "New York    150.0\n",
       "dtype: float64"
      ]
     },
     "execution_count": 10,
     "metadata": {},
     "output_type": "execute_result"
    }
   ],
   "source": [
    "cities[cities < 1000]"
   ]
  },
  {
   "cell_type": "code",
   "execution_count": 12,
   "id": "b09fffd0",
   "metadata": {},
   "outputs": [
    {
     "data": {
      "text/plain": [
       "Moscow      100.0\n",
       "London      300.0\n",
       "New York    150.0\n",
       "dtype: float64"
      ]
     },
     "execution_count": 12,
     "metadata": {},
     "output_type": "execute_result"
    }
   ],
   "source": [
    "cities['Moscow'] = 100\n",
    "cities[cities < 1000]"
   ]
  },
  {
   "cell_type": "code",
   "execution_count": 14,
   "id": "0a179cbe",
   "metadata": {},
   "outputs": [
    {
     "data": {
      "text/plain": [
       "Moscow       300.0\n",
       "London       300.0\n",
       "New York     300.0\n",
       "Barselona      NaN\n",
       "dtype: float64"
      ]
     },
     "execution_count": 14,
     "metadata": {},
     "output_type": "execute_result"
    }
   ],
   "source": [
    "cities[cities < 1000] = 300\n",
    "cities"
   ]
  },
  {
   "cell_type": "code",
   "execution_count": 15,
   "id": "bc8b90cd",
   "metadata": {},
   "outputs": [
    {
     "data": {
      "text/plain": [
       "Moscow       900.0\n",
       "London       900.0\n",
       "New York     900.0\n",
       "Barselona      NaN\n",
       "dtype: float64"
      ]
     },
     "execution_count": 15,
     "metadata": {},
     "output_type": "execute_result"
    }
   ],
   "source": [
    "cities * 3"
   ]
  },
  {
   "cell_type": "code",
   "execution_count": 16,
   "id": "19fdf31f",
   "metadata": {},
   "outputs": [
    {
     "data": {
      "text/plain": [
       "Moscow       False\n",
       "London       False\n",
       "New York     False\n",
       "Barselona     True\n",
       "dtype: bool"
      ]
     },
     "execution_count": 16,
     "metadata": {},
     "output_type": "execute_result"
    }
   ],
   "source": [
    "cities.isnull()"
   ]
  }
 ],
 "metadata": {
  "kernelspec": {
   "display_name": "Python 3",
   "language": "python",
   "name": "python3"
  },
  "language_info": {
   "codemirror_mode": {
    "name": "ipython",
    "version": 3
   },
   "file_extension": ".py",
   "mimetype": "text/x-python",
   "name": "python",
   "nbconvert_exporter": "python",
   "pygments_lexer": "ipython3",
   "version": "3.8.8"
  }
 },
 "nbformat": 4,
 "nbformat_minor": 5
}
